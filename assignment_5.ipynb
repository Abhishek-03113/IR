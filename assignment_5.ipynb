{
 "cells": [
  {
   "cell_type": "code",
   "execution_count": 1,
   "metadata": {},
   "outputs": [],
   "source": [
    "import numpy as np "
   ]
  },
  {
   "cell_type": "code",
   "execution_count": 23,
   "metadata": {},
   "outputs": [],
   "source": [
    "class PageRank: \n",
    "    \n",
    "    def __init__(self, graph, damping_factor = 0.85, max_iterations = 100, tolerance = 0.0001) -> None:\n",
    "        self.graph = graph \n",
    "        self.damping_factor = damping_factor \n",
    "        self.max_iters = max_iterations \n",
    "        self.tolerance = tolerance \n",
    "        self.num_pages = len(graph) \n",
    "        self.rank = np.ones(self.num_pages)/self.num_pages \n",
    "    \n",
    "    \n",
    "    def calulate_rank(self): \n",
    "        \n",
    "        for _ in range(self.max_iters): \n",
    "            new_rank = np.zeros(self.num_pages) \n",
    "            \n",
    "            for page in range(self.num_pages): \n",
    "                for link in range(self.num_pages): \n",
    "                    \n",
    "                    if self.graph[link][page] > 0: \n",
    "                        new_rank[page] += self.graph[link][page] * self.rank[link] \n",
    "\n",
    "            new_rank = (1 - self.damping_factor)/ self.num_pages + self.damping_factor*new_rank \n",
    "            \n",
    "            if np.linalg.norm(new_rank-self.rank, 1) < self.tolerance:\n",
    "                break \n",
    "            \n",
    "            self.rank = new_rank \n",
    "        \n",
    "        return self.rank \n"
   ]
  },
  {
   "cell_type": "code",
   "execution_count": 24,
   "metadata": {},
   "outputs": [
    {
     "name": "stdout",
     "output_type": "stream",
     "text": [
      "page 1 ; 799052427776370.2500\n",
      "page 2 ; 1345421756486872.0000\n",
      "page 3 ; 1466330468144249.0000\n",
      "page 4 ; 1669913118740961.0000\n"
     ]
    }
   ],
   "source": [
    "graph = np.array([\n",
    "    [0, 1, 1, 0],\n",
    "    [1, 0, 0, 1],\n",
    "    [0, 1, 0, 1], \n",
    "    [0, 0, 1, 0]\n",
    "])\n",
    "\n",
    "\n",
    "page_rank = PageRank(graph)\n",
    "\n",
    "results = page_rank.calulate_rank() \n",
    "\n",
    "for i, rank in enumerate(results): \n",
    "    \n",
    "    print(f'page {i + 1} ; {rank:.4f}') "
   ]
  },
  {
   "cell_type": "code",
   "execution_count": null,
   "metadata": {},
   "outputs": [],
   "source": [
    "import numpy as np\n",
    "\n",
    "damping_factor = 0.85\n",
    "tolerance = 1e-6\n",
    "max_iterations = 100\n",
    "\n",
    "def page_rank(graph):\n",
    "    N = len(graph)\n",
    "    \n",
    "    # Initialize the rank vector with 1/N for all pages\n",
    "    rank = np.full(N, 1.0 / N)\n",
    "    new_rank = np.zeros(N)\n",
    "    \n",
    "    for _ in range(max_iterations):\n",
    "        # Calculate the new rank for each page\n",
    "        for i in range(N):\n",
    "            new_rank[i] = 0.0\n",
    "            \n",
    "            # Update the new rank for the current page based on incoming links\n",
    "            for j in range(N):\n",
    "                if graph[j][i] == 1:\n",
    "                    new_rank[i] += rank[j] / sum(graph[j])\n",
    "            \n",
    "            # Apply the damping factor and add the random jump probability\n",
    "            new_rank[i] = damping_factor * new_rank[i] + (1.0 - damping_factor) / N\n",
    "        \n",
    "        # Check for convergence\n",
    "        if np.all(np.abs(rank - new_rank) < tolerance):\n",
    "            break\n",
    "        \n",
    "        # Update the rank vector for the next iteration\n",
    "        rank = new_rank.copy()\n",
    "    \n",
    "    return rank\n",
    "\n",
    "# Example graph representation: (0->1, 0->2, 1->2, 2->0)\n",
    "graph = [\n",
    "    [0, 1, 1],\n",
    "    [0, 0, 1],\n",
    "    [1, 0, 0]\n",
    "]\n",
    "\n",
    "rank = page_rank(graph)\n",
    "\n",
    "print(\"PageRank Scores:\")\n",
    "for i, score in enumerate(rank):\n",
    "    print(f\"Page {i}: {score:.6f}\")\n"
   ]
  }
 ],
 "metadata": {
  "kernelspec": {
   "display_name": "base",
   "language": "python",
   "name": "python3"
  },
  "language_info": {
   "codemirror_mode": {
    "name": "ipython",
    "version": 3
   },
   "file_extension": ".py",
   "mimetype": "text/x-python",
   "name": "python",
   "nbconvert_exporter": "python",
   "pygments_lexer": "ipython3",
   "version": "3.11.5"
  }
 },
 "nbformat": 4,
 "nbformat_minor": 2
}
