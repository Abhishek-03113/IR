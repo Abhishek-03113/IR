{
 "cells": [
  {
   "cell_type": "code",
   "execution_count": null,
   "metadata": {},
   "outputs": [],
   "source": [
    "import numpy as np "
   ]
  },
  {
   "cell_type": "code",
   "execution_count": 2,
   "metadata": {},
   "outputs": [],
   "source": [
    "class PageRank: \n",
    "    \n",
    "    def __init__(self, graph, damping_factor = 0.85, max_iterations = 100, tolerance = 1.0) -> None:\n",
    "        self.graph = graph \n",
    "        self.damping_factor = damping_factor \n",
    "        self.max_iters = max_iterations \n",
    "        self.tolerance = tolerance \n",
    "        self.num_pages = len(graph) \n",
    "        self.rank = np.ones(self.num_pages)/ self.num_pages \n",
    "    \n",
    "    \n",
    "    def rank(self): \n",
    "        \n",
    "        for _ in range(self.max_iters): \n",
    "            \n",
    "            new_rank = np.zeros(self.num_pages) \n",
    "            \n",
    "            for page in range(self.num_pages): \n",
    "                for link in range(self.num_pages): \n",
    "                    \n",
    "                    if self.graph[link][page] > 0: \n",
    "                        new_rank[page] += self.graph[link][page] * self.rank[link] \n",
    "\n",
    "            new_rank = (1 - self.damping_factor)/ self.num_pages + self.damping_factor*new_rank \n",
    "            \n",
    "            if np.linalg.norm(new_rank-self.rank, 1) < self.tolerance:\n",
    "                break \n",
    "            \n",
    "            self.rank = new_rank \n",
    "        \n",
    "        return self.rank \n"
   ]
  },
  {
   "cell_type": "code",
   "execution_count": null,
   "metadata": {},
   "outputs": [],
   "source": []
  }
 ],
 "metadata": {
  "kernelspec": {
   "display_name": "base",
   "language": "python",
   "name": "python3"
  },
  "language_info": {
   "codemirror_mode": {
    "name": "ipython",
    "version": 3
   },
   "file_extension": ".py",
   "mimetype": "text/x-python",
   "name": "python",
   "nbconvert_exporter": "python",
   "pygments_lexer": "ipython3",
   "version": "3.11.5"
  }
 },
 "nbformat": 4,
 "nbformat_minor": 2
}
