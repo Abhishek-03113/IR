{
 "cells": [
  {
   "cell_type": "code",
   "execution_count": 7,
   "metadata": {},
   "outputs": [],
   "source": [
    "import numpy \n",
    "import pandas \n",
    "import sys \n",
    "import os \n",
    "import time"
   ]
  },
  {
   "cell_type": "code",
   "execution_count": 8,
   "metadata": {},
   "outputs": [],
   "source": [
    "documents = [\n",
    "    \"Natural Language Processing is an exciting field of AI.\",\n",
    "    \"Document retrieval is a key concept in Information Retrieval.\",\n",
    "    \"AI and machine learning are closely related fields.\",\n",
    "    \"Natural Language Processing and Information Retrieval often overlap.\",\n",
    "    \"Machine learning plays a crucial role in AI.\"\n",
    "        \n",
    "]"
   ]
  },
  {
   "cell_type": "code",
   "execution_count": 9,
   "metadata": {},
   "outputs": [],
   "source": [
    "inverted_index = {} \n",
    "\n",
    "for doc_id, doc in enumerate(documents):\n",
    "    \n",
    "    words = doc.lower().split() \n",
    "    \n",
    "    for word in words: \n",
    "        if word not in inverted_index: \n",
    "            inverted_index[word] = [doc_id] \n",
    "        else:\n",
    "            inverted_index[word].append(doc_id) "
   ]
  },
  {
   "cell_type": "code",
   "execution_count": 10,
   "metadata": {},
   "outputs": [],
   "source": [
    "def retrieve(query): \n",
    "    \n",
    "    query_words = query.lower().split() \n",
    "    \n",
    "    results = set() \n",
    "    \n",
    "    for word in query_words: \n",
    "        \n",
    "        if word in inverted_index: \n",
    "            if not results:\n",
    "                results = set(inverted_index[word])\n",
    "            else:\n",
    "                results = results.intersection(inverted_index[word]) \n",
    "    \n",
    "    return list(results) "
   ]
  },
  {
   "cell_type": "code",
   "execution_count": 11,
   "metadata": {},
   "outputs": [
    {
     "name": "stdout",
     "output_type": "stream",
     "text": [
      "inverted_index: \n",
      "natural : [0, 3]\n",
      "language : [0, 3]\n",
      "processing : [0, 3]\n",
      "is : [0, 1]\n",
      "an : [0]\n",
      "exciting : [0]\n",
      "field : [0]\n",
      "of : [0]\n",
      "ai. : [0, 4]\n",
      "document : [1]\n",
      "retrieval : [1, 3]\n",
      "a : [1, 4]\n",
      "key : [1]\n",
      "concept : [1]\n",
      "in : [1, 4]\n",
      "information : [1, 3]\n",
      "retrieval. : [1]\n",
      "ai : [2]\n",
      "and : [2, 3]\n",
      "machine : [2, 4]\n",
      "learning : [2, 4]\n",
      "are : [2]\n",
      "closely : [2]\n",
      "related : [2]\n",
      "fields. : [2]\n",
      "often : [3]\n",
      "overlap. : [3]\n",
      "plays : [4]\n",
      "crucial : [4]\n",
      "role : [4]\n",
      "documents 1 : Natural Language Processing is an exciting field of AI.\n",
      "documents 4 : Natural Language Processing and Information Retrieval often overlap.\n",
      "No documents found\n"
     ]
    }
   ],
   "source": [
    "print(\"inverted_index: \") \n",
    "\n",
    "for word, id in inverted_index.items():\n",
    "    print(f\"{word} : {id}\") \n",
    "\n",
    "query = \"Natural Language Processing\"\n",
    "\n",
    "results = retrieve(query) \n",
    "\n",
    "if results:\n",
    "    for id in results:\n",
    "        print(f'documents {id + 1} : {documents[id]}') \n",
    "    else:\n",
    "        print(\"No documents found\")"
   ]
  },
  {
   "cell_type": "code",
   "execution_count": null,
   "metadata": {},
   "outputs": [],
   "source": []
  }
 ],
 "metadata": {
  "kernelspec": {
   "display_name": "base",
   "language": "python",
   "name": "python3"
  },
  "language_info": {
   "codemirror_mode": {
    "name": "ipython",
    "version": 3
   },
   "file_extension": ".py",
   "mimetype": "text/x-python",
   "name": "python",
   "nbconvert_exporter": "python",
   "pygments_lexer": "ipython3",
   "version": "3.11.5"
  }
 },
 "nbformat": 4,
 "nbformat_minor": 2
}
